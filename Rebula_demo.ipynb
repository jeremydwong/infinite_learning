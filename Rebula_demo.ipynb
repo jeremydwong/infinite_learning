{
 "cells": [
  {
   "cell_type": "markdown",
   "metadata": {},
   "source": [
    "# 2D Point Mass Walking Model with Two Force Actuators\n",
    "\n",
    "This notebook demonstrates trajectory optimization for a simple walking model using InfiniteOpt.jl. The model has a point mass moving through space with two legs that can apply forces to propel it forward in a walking gait.\n",
    "\n",
    "## Setup and Package Loading"
   ]
  },
  {
   "cell_type": "code",
   "execution_count": null,
   "metadata": {},
   "outputs": [],
   "source": [
    "# Activate environment and load packages\n",
    "using Pkg\n",
    "Pkg.activate(\".\")\n",
    "Pkg.instantiate()\n",
    "\n",
    "using Revise\n",
    "using InfiniteOpt, Ipopt, Plots, Distributions, LinearAlgebra"
   ]
  },
  {
   "cell_type": "markdown",
   "metadata": {},
   "source": [
    "## Step 1: Define Model Parameters and Variables\n",
    "\n",
    "Here we set up the basic optimization model with InfiniteOpt and define:\n",
    "- Physical parameters (gravity, damping, force penalties)\n",
    "- The infinite time parameter using orthogonal collocation\n",
    "- State variables (position px, py and velocities vx, vy)\n",
    "- Control variables (forces F_trail and F_lead on each leg)\n",
    "- Time scaling variable t_f\n",
    "- Fixed contact points for trailing and leading legs\n",
    "- Leg geometry expressions (vectors, lengths, unit vectors)\n",
    "- Force components along each leg"
   ]
  },
  {
   "cell_type": "code",
   "execution_count": null,
   "metadata": {},
   "outputs": [],
   "source": [
    "# Create the optimization model\n",
    "model = InfiniteModel(Ipopt.Optimizer)\n",
    "\n",
    "# Model parameters\n",
    "c_fr = 0.05  # Force rate penalty coefficient (0.05 creates linear forces)\n",
    "c_t = 5.0    # Time penalty coefficient\n",
    "k_b = 0.0    # Damping coefficient\n",
    "g = 1        # Gravity\n",
    "ω0 = 0.3     # Initial angular velocity\n",
    "α = 0.35     # Angle for step length calculation\n",
    "y_0 = 0.95   # Initial leg length\n",
    "sl = 2*y_0*sin(α)  # Step length\n",
    "\n",
    "# Infinite time parameter with 101 collocation points\n",
    "@infinite_parameter(model, t in [0, 1], num_supports=101, derivative_method = OrthogonalCollocation(2))\n",
    "\n",
    "# State variables with bounds and initial guesses\n",
    "@variable(model, px, Infinite(t), start = (t) -> value(sl)*t)  # x position\n",
    "@variable(model, py >= 0.1, Infinite(t), start = (t) -> y_0 + cos(π*t)*.1)  # y position (must be positive)\n",
    "@variable(model, vx, Infinite(t), start = (t) -> 1.0)  # x velocity\n",
    "@variable(model, vy, Infinite(t), start = (t) -> 0.0)  # y velocity\n",
    "\n",
    "# Force magnitude along each leg (must be positive - legs can only push)\n",
    "@variable(model, F_trail >= 0, Infinite(t), \n",
    "          start = (t) -> 1.0 * cos(2π*t) * (t < 0.5 ? 1.0 : 0.0))  # trailing leg force\n",
    "@variable(model, F_lead >= 0, Infinite(t), \n",
    "          start = (t) -> 1.0 * -sin(2π*t) * (t <= 0.5 ? 0 : 1.0))  # leading leg force\n",
    "\n",
    "# Time scaling variable\n",
    "@variable(model, 0.001 <= t_f <= 10, start = 1)\n",
    "\n",
    "# Fixed leg contact positions\n",
    "@finite_parameter(model, P_trail_x==0.0)   # Trailing leg x-position\n",
    "@finite_parameter(model, P_trail_y==0.0)   # Trailing leg y-position\n",
    "@finite_parameter(model, P_lead_x==sl)     # Leading leg x-position\n",
    "@finite_parameter(model, P_lead_y==0.0)    # Leading leg y-position\n",
    "\n",
    "# Leg vectors (from contact points to COM)\n",
    "@expression(model, trail_leg_x, px - P_trail_x)\n",
    "@expression(model, trail_leg_y, py - P_trail_y)\n",
    "@expression(model, lead_leg_x, px - P_lead_x)\n",
    "@expression(model, lead_leg_y, py - P_lead_y)\n",
    "\n",
    "# Leg lengths\n",
    "@expression(model, trail_leg_length, sqrt(trail_leg_x^2 + trail_leg_y^2))\n",
    "@expression(model, lead_leg_length, sqrt(lead_leg_x^2 + lead_leg_y^2))\n",
    "\n",
    "# Unit vectors along each leg\n",
    "@expression(model, trail_unit_x, trail_leg_x / (trail_leg_length))\n",
    "@expression(model, trail_unit_y, trail_leg_y / (trail_leg_length))\n",
    "@expression(model, lead_unit_x, lead_leg_x / (lead_leg_length))\n",
    "@expression(model, lead_unit_y, lead_leg_y / (lead_leg_length))\n",
    "\n",
    "# Force components for each leg\n",
    "@expression(model, Ftrail_x, F_trail * trail_unit_x)\n",
    "@expression(model, Ftrail_y, F_trail * trail_unit_y)\n",
    "@expression(model, Flead_x,  F_lead * lead_unit_x)\n",
    "@expression(model, Flead_y,  F_lead * lead_unit_y)\n",
    "\n",
    "# Total force components\n",
    "@expression(model, Ftot_x, Ftrail_x + Flead_x)\n",
    "@expression(model, Ftot_y, Ftrail_y + Flead_y)\n",
    "\n",
    "# Leg lengthening velocities\n",
    "@expression(model, trail_leg_velocity, \n",
    "           (px*vx + py*vy) / (trail_leg_length))\n",
    "@expression(model, lead_leg_velocity, \n",
    "            (-P_lead_x*vx + px*vx -P_lead_y*vy + py*vy) / (lead_leg_length))"
   ]
  },
  {
   "cell_type": "markdown",
   "metadata": {},
   "source": [
    "## Step 2: Compute Mechanical Power\n",
    "\n",
    "Mechanical power is calculated as force magnitude times leg-lengthening velocity. Positive power occurs when the leg extends (doing positive work), while negative power occurs during leg compression (absorbing energy). We use slack variables to separate positive and negative power contributions."
   ]
  },
  {
   "cell_type": "code",
   "execution_count": null,
   "metadata": {},
   "outputs": [],
   "source": [
    "# Power slack variables for each leg (separated into positive and negative)\n",
    "@variable(model, pospower_trail >= 0, Infinite(t))\n",
    "@variable(model, negpower_trail <= 0, Infinite(t))\n",
    "@variable(model, pospower_lead >= 0, Infinite(t))\n",
    "@variable(model, negpower_lead <= 0, Infinite(t))\n",
    "\n",
    "# Mechanical power expressions\n",
    "@expression(model, mechpower_trail, F_trail * trail_leg_velocity)\n",
    "@expression(model, mechpower_lead, F_lead * lead_leg_velocity)"
   ]
  },
  {
   "cell_type": "markdown",
   "metadata": {},
   "source": [
    "## Step 3: Power Splitting Constraints\n",
    "\n",
    "These constraints ensure that the positive and negative power slack variables correctly bound the actual mechanical power. This allows us to penalize positive work (energy generation) differently from negative work (energy absorption) in the objective function."
   ]
  },
  {
   "cell_type": "code",
   "execution_count": null,
   "metadata": {},
   "outputs": [],
   "source": [
    "# Power splitting constraints for trailing leg\n",
    "@constraint(model, pospower_trail >= mechpower_trail)\n",
    "@constraint(model, pospower_trail >= 0)\n",
    "@constraint(model, negpower_trail <= mechpower_trail)\n",
    "@constraint(model, negpower_trail <= 0)\n",
    "\n",
    "# Power splitting constraints for leading leg\n",
    "@constraint(model, pospower_lead >= mechpower_lead)\n",
    "@constraint(model, pospower_lead >= 0)\n",
    "@constraint(model, negpower_lead <= mechpower_lead)\n",
    "@constraint(model, negpower_lead <= 0)"
   ]
  },
  {
   "cell_type": "markdown",
   "metadata": {},
   "source": [
    "## Step 4: System Dynamics\n",
    "\n",
    "These are the equations of motion for the point mass. Position derivatives equal velocity, and velocity derivatives equal force divided by mass (mass = 1 here) minus gravity in the y-direction. The t_f factor accounts for time scaling."
   ]
  },
  {
   "cell_type": "code",
   "execution_count": null,
   "metadata": {},
   "outputs": [],
   "source": [
    "# Kinematic and dynamic constraints\n",
    "@constraint(model, ∂(px, t) == t_f * vx)\n",
    "@constraint(model, ∂(py, t) == t_f * vy)\n",
    "@constraint(model, ∂(vx, t) == t_f * (Ftot_x))\n",
    "@constraint(model, ∂(vy, t) == t_f * (Ftot_y - g))"
   ]
  },
  {
   "cell_type": "markdown",
   "metadata": {},
   "source": [
    "## Step 5: Force Rate Dynamics and Leg Length Constraints\n",
    "\n",
    "To encourage smooth force profiles, we introduce force rate (Fdot) and force acceleration (Fddot) variables. The force acceleration is split into positive and negative components to allow for asymmetric penalties. We also enforce that forces can only be applied when the leg length is at or below its rest length (complementarity constraint)."
   ]
  },
  {
   "cell_type": "code",
   "execution_count": null,
   "metadata": {},
   "outputs": [],
   "source": [
    "# Force rate variables\n",
    "@variable(model, Fdot_trail, Infinite(t))\n",
    "@variable(model, Fdot_lead, Infinite(t))\n",
    "\n",
    "# Force acceleration variables (split into positive and negative components)\n",
    "@variable(model, Fddot_trail_p >= 0, Infinite(t))\n",
    "@variable(model, Fddot_trail_m >= 0, Infinite(t))\n",
    "@variable(model, Fddot_lead_p >= 0, Infinite(t))\n",
    "@variable(model, Fddot_lead_m >= 0, Infinite(t))\n",
    "\n",
    "# Scaling parameters (currently set to 1)\n",
    "@variable(model, fdot_scale == 1)\n",
    "@variable(model, fddot_scale == 1)\n",
    "\n",
    "# Force rate dynamics\n",
    "@constraint(model, ∂(F_trail, t) == t_f * (Fdot_trail)/fdot_scale)\n",
    "@constraint(model, ∂(F_lead, t) == t_f * (Fdot_lead)/fdot_scale)\n",
    "@constraint(model, ∂(Fdot_trail, t) == t_f * ((Fddot_trail_p - Fddot_trail_m)/fddot_scale))\n",
    "@constraint(model, ∂(Fdot_lead, t) == t_f * ((Fddot_lead_p - Fddot_lead_m)/fddot_scale))\n",
    "\n",
    "# Leg length constraints: forces only active when leg length <= 1 (complementarity)\n",
    "@constraint(model, F_trail * (trail_leg_length - 1) <= 0)\n",
    "@constraint(model, F_lead * (lead_leg_length - 1) <= 0)"
   ]
  },
  {
   "cell_type": "markdown",
   "metadata": {},
   "source": [
    "## Step 6: Boundary Conditions\n",
    "\n",
    "We enforce periodic boundary conditions for a symmetric walking gait. The walker starts at the origin with the trailing leg on the ground, and ends one step length away with the same height and horizontal velocity. Forces transition smoothly: trailing leg force ends at zero, leading leg force starts at zero, and force rates are matched at the boundaries."
   ]
  },
  {
   "cell_type": "code",
   "execution_count": null,
   "metadata": {},
   "outputs": [],
   "source": [
    "# Initial conditions\n",
    "@constraint(model, px(0) == 0)\n",
    "@constraint(model, py(0) == y_0)\n",
    "@constraint(model, vy(0) == 0)  # Zero vertical velocity at start\n",
    "\n",
    "# Final conditions (symmetric gait)\n",
    "@constraint(model, px(1) == sl)      # One full step\n",
    "@constraint(model, py(1) == y_0)     # Same height at end\n",
    "@constraint(model, vx(1) == vx(0))   # Same horizontal velocity\n",
    "@constraint(model, vy(1) == 0)       # Same vertical velocity\n",
    "\n",
    "# Force boundary conditions\n",
    "@constraint(model, F_trail(1) == 0)\n",
    "@constraint(model, F_lead(0) == 0)\n",
    "@constraint(model, Fdot_lead(0) == Fdot_trail(1))\n",
    "@constraint(model, Fdot_trail(0) == Fdot_lead(1))\n",
    "\n",
    "# Fix step time\n",
    "@constraint(model,t_f == 1.2)"
   ]
  },
  {
   "cell_type": "markdown",
   "metadata": {},
   "source": [
    "## Step 7: Define Objective Function\n",
    "\n",
    "The objective minimizes a combination of:\n",
    "1. Net mechanical work (positive work - negative work)\n",
    "2. Force rate (to encourage smooth force profiles)\n",
    "3. Time (optional, currently weighted)\n",
    "\n",
    "This encourages efficient, smooth gaits that minimize energy expenditure."
   ]
  },
  {
   "cell_type": "code",
   "execution_count": null,
   "metadata": {},
   "outputs": [],
   "source": [
    "# Cost components\n",
    "@expression(model, cost_work, \n",
    "    integral(pospower_trail, t) * t_f + integral(pospower_lead, t) * t_f - \n",
    "    integral(negpower_trail, t) * t_f - integral(negpower_lead, t) * t_f)\n",
    "\n",
    "@expression(model, cost_fr, \n",
    "    c_fr*integral(Fddot_trail_p,t) * t_f + c_fr*integral(Fddot_lead_p,t)*t_f + \n",
    "    c_fr*integral(Fddot_trail_m,t) * t_f + c_fr*integral(Fddot_lead_m,t)*t_f)\n",
    "\n",
    "@expression(model, cost_fr2, \n",
    "    c_fr*integral(Fddot_trail_p.^2,t) * t_f + c_fr*integral(Fddot_lead_p.^2,t)*t_f + \n",
    "    c_fr*integral(Fddot_trail_m.^2,t) * t_f + c_fr*integral(Fddot_lead_m.^2,t)*t_f)\n",
    "\n",
    "@expression(model, cost_time, c_t*t_f)\n",
    "\n",
    "# Objective: minimize work + force rate\n",
    "@objective(model, Min, cost_work + cost_fr)"
   ]
  },
  {
   "cell_type": "markdown",
   "metadata": {},
   "source": [
    "## Step 8: Configure Solver and Optimize\n",
    "\n",
    "We use Ipopt as the nonlinear programming solver with warm starting enabled and moderate tolerance settings. The optimization typically takes 1-2 minutes depending on hardware."
   ]
  },
  {
   "cell_type": "code",
   "execution_count": null,
   "metadata": {},
   "outputs": [],
   "source": [
    "# Set solver parameters\n",
    "set_optimizer_attribute(model, \"max_cpu_time\", 120.0)\n",
    "set_optimizer_attributes(model, \"tol\" => 1e-3, \"max_iter\" => 500)\n",
    "set_optimizer_attribute(model, \"warm_start_init_point\", \"yes\")\n",
    "\n",
    "# Solve the optimization problem\n",
    "optimize!(model)"
   ]
  },
  {
   "cell_type": "markdown",
   "metadata": {},
   "source": [
    "## Step 9: Visualize Results\n",
    "\n",
    "We create a comprehensive visualization showing:\n",
    "1. Trajectory in x-y space\n",
    "2. Position vs time\n",
    "3. Velocities\n",
    "4. Forces\n",
    "5. Leg lengths\n",
    "6. Force rates\n",
    "7. Leg velocities\n",
    "8. Dynamics constraint violations"
   ]
  },
  {
   "cell_type": "code",
   "execution_count": null,
   "metadata": {},
   "outputs": [],
   "source": [
    "# Plotting function\n",
    "function plot_results()\n",
    "    f = plot(layout = (4,2), size = (800, 800))\n",
    "    t_ = value(t)*value(t_f)\n",
    "    txt=\"work:\"*string(round(value(cost_work),digits=2)) * \" force rate:\" * string(round(value(cost_fr),digits=2))\n",
    "    plot!(value(px),value(py),subplot = 1,xlabel=\"x\",ylabel=\"y\",title=txt)\n",
    "    plot!(t_,value(px),subplot = 2,ylabel=\"pxy\",xlabel=\"time\")\n",
    "    plot!(t_,value(py),subplot = 2)\n",
    "    plot!(t_,value(vx),subplot=3,label=\"vx\",ylabel=\"vel\")\n",
    "    plot!(t_,value(vy),subplot=3,label=\"vy\")\n",
    "    plot!(t_,value(Ftrail_x), label=\"Ftrail_x\",subplot=4,ylabel=\"force\")\n",
    "    plot!(t_,value(Ftrail_y), label=\"Ftrail_y\",subplot=4)\n",
    "    plot!(t_,value(Flead_y) + value(Ftrail_y), label=\"FY\",subplot=4)\n",
    "    plot!(t_,value(Flead_x), label=\"Flead_x\",subplot=4)\n",
    "    plot!(t_,value(Flead_y), label=\"Flead_y\",subplot=4)\n",
    "\n",
    "    plot!(t_,value(trail_leg_length),subplot=5,label=\"trail\",linewidth=2,ylabel=\"leg length\")\n",
    "    plot!(t_,sqrt.((value(px) .- value(P_trail_x)).^2 + (value(py) .- value(P_trail_y)).^2),subplot=5,label=\"trailcomp\")\n",
    "    plot!(t_,value(lead_leg_length),subplot=5,label=\"lead\")\n",
    "\n",
    "    # plot fdotdot for each leg\n",
    "    plot!(t_,value(Fddot_trail_p)-value(Fddot_trail_m),subplot=6,label=\"trail\",ylabel=\"force rate\")\n",
    "    plot!(t_,value(Fddot_lead_p)-value(Fddot_lead_m),subplot=6,label=\"lead\")\n",
    "\n",
    "    plot!(t_,value(trail_leg_velocity),subplot=7,label = \"trail\",ylabel=\"dlegdt\")\n",
    "    plot!(t_,value(lead_leg_velocity),subplot=7,label = \"lead\",ylabel=\"dlegdt\")\n",
    "\n",
    "    vx_dot = value(∂(vx,t))\n",
    "    vy_dot = value(∂(vy,t))\n",
    "    force_viol_x = vx_dot - value(Ftot_x)*value(t_f)\n",
    "    force_viol_y = vy_dot - (value(Ftot_y) .- g)*value(t_f)\n",
    "    plot!(t_,force_viol_x,subplot=8,label=\"dyn_viol_x\")\n",
    "    plot!(t_,force_viol_y,subplot=8,label=\"dyn_viol_y\",xlabel=\"time\")\n",
    "    return f\n",
    "end\n",
    "\n",
    "# Generate and display the plot\n",
    "f = plot_results()\n",
    "display(f)"
   ]
  },
  {
   "cell_type": "markdown",
   "metadata": {},
   "source": [
    "## Step 10: Animate the Walking Motion\n",
    "\n",
    "This creates a simple animation showing the walker's center of mass and leg configurations over time. The animation shows the point mass (red circle) connected to ground contact points by lines representing the legs."
   ]
  },
  {
   "cell_type": "code",
   "execution_count": null,
   "metadata": {},
   "outputs": [],
   "source": [
    "# Extract trajectory data\n",
    "px_vals = value(px)\n",
    "py_vals = value(py)\n",
    "trail_x = value(P_trail_x)\n",
    "trail_y = value(P_trail_y)\n",
    "lead_x = value(P_lead_x)\n",
    "lead_y = value(P_lead_y)\n",
    "\n",
    "# Create animation\n",
    "anim = @animate for i in 1:length(px_vals)\n",
    "    plot(xlim=(-0.2, sl+0.2), ylim=(-0.1, 1.5), aspect_ratio=:equal, \n",
    "         legend=false, xlabel=\"x\", ylabel=\"y\", title=\"Walking Model Animation\")\n",
    "    \n",
    "    # Draw ground\n",
    "    plot!([-0.2, sl+0.2], [0, 0], color=:black, linewidth=2)\n",
    "    \n",
    "    # Draw legs\n",
    "    plot!([trail_x, px_vals[i]], [trail_y, py_vals[i]], \n",
    "          color=:blue, linewidth=3, label=\"trailing leg\")\n",
    "    plot!([lead_x, px_vals[i]], [lead_y, py_vals[i]], \n",
    "          color=:green, linewidth=3, label=\"leading leg\")\n",
    "    \n",
    "    # Draw contact points\n",
    "    scatter!([trail_x, lead_x], [trail_y, lead_y], \n",
    "             color=:black, markersize=6, markershape=:square)\n",
    "    \n",
    "    # Draw center of mass\n",
    "    scatter!([px_vals[i]], [py_vals[i]], \n",
    "             color=:red, markersize=10)\n",
    "    \n",
    "    # Draw trajectory trace\n",
    "    plot!(px_vals[1:i], py_vals[1:i], \n",
    "          color=:red, alpha=0.3, linewidth=1)\n",
    "end\n",
    "\n",
    "# Display the animation (adjust fps as needed)\n",
    "gif(anim, \"walking_animation.gif\", fps=15)"
   ]
  }
 ],
 "metadata": {
  "kernelspec": {
   "display_name": "Julia 1.10.0",
   "name": "julia-1.10"
  },
  "language_info": {
   "file_extension": ".jl",
   "mimetype": "application/julia",
   "name": "julia",
   "version": "1.10.0"
  }
 },
 "nbformat": 4,
 "nbformat_minor": 4
}
