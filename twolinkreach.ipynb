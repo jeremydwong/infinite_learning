{
 "cells": [
  {
   "cell_type": "markdown",
   "metadata": {},
   "source": [
    "# Two-link reaching"
   ]
  },
  {
   "cell_type": "code",
   "execution_count": 8,
   "metadata": {},
   "outputs": [],
   "source": [
    "using InfiniteOpt, Ipopt, Plots, Distributions, ControlSystems\n",
    "include(\"plotpvu.jl\"); # plotting utility, soft abs and relu"
   ]
  },
  {
   "cell_type": "code",
   "execution_count": 9,
   "metadata": {},
   "outputs": [
    {
     "name": "stdout",
     "output_type": "stream",
     "text": [
      "This is Ipopt version 3.14.4, running with linear solver MUMPS 5.4.1.\n",
      "\n",
      "Number of nonzeros in equality constraint Jacobian...:      708\n",
      "Number of nonzeros in inequality constraint Jacobian.:        0\n",
      "Number of nonzeros in Lagrangian Hessian.............:      204\n",
      "\n",
      "Total number of variables............................:      264\n",
      "                     variables with only lower bounds:        0\n",
      "                variables with lower and upper bounds:        0\n",
      "                     variables with only upper bounds:        0\n",
      "Total number of equality constraints.................:      244\n",
      "Total number of inequality constraints...............:        0\n",
      "        inequality constraints with only lower bounds:        0\n",
      "   inequality constraints with lower and upper bounds:        0\n",
      "        inequality constraints with only upper bounds:        0\n",
      "\n",
      "iter    objective    inf_pr   inf_du lg(mu)  ||d||  lg(rg) alpha_du alpha_pr  ls\n",
      "   0  0.0000000e+00 3.14e+00 0.00e+00  -1.0 0.00e+00    -  0.00e+00 0.00e+00   0\n",
      "   1  1.8804794e+02 8.28e-02 9.27e+00  -1.0 1.97e+02  -4.0 1.00e+00 1.00e+00h  1\n",
      "   2  1.8402848e+02 1.23e-04 8.21e-02  -1.0 4.68e+01  -4.5 1.00e+00 1.00e+00f  1\n",
      "   3  1.8400171e+02 5.63e-07 2.52e-04  -2.5 5.47e+00  -5.0 1.00e+00 1.00e+00f  1\n",
      "   4  1.8400165e+02 1.13e-09 8.72e-07  -5.7 2.36e-01  -5.4 1.00e+00 1.00e+00h  1\n",
      "   5  1.8400165e+02 2.81e-13 4.42e-09  -8.6 3.58e-03  -5.9 1.00e+00 1.00e+00h  1\n",
      "\n",
      "Number of Iterations....: 5\n",
      "\n",
      "                                   (scaled)                 (unscaled)\n",
      "Objective...............:   1.8400165152827344e+02    1.8400165152827344e+02\n",
      "Dual infeasibility......:   4.4245836435177648e-09    4.4245836435177648e-09\n",
      "Constraint violation....:   2.8108071425947401e-13    2.8108071425947401e-13\n",
      "Variable bound violation:   0.0000000000000000e+00    0.0000000000000000e+00\n",
      "Complementarity.........:   0.0000000000000000e+00    0.0000000000000000e+00\n",
      "Overall NLP error.......:   4.4245836435177648e-09    4.4245836435177648e-09\n",
      "\n",
      "\n",
      "Number of objective function evaluations             = 6\n",
      "Number of objective gradient evaluations             = 6\n",
      "Number of equality constraint evaluations            = 6\n",
      "Number of inequality constraint evaluations          = 0\n",
      "Number of equality constraint Jacobian evaluations   = 6\n",
      "Number of inequality constraint Jacobian evaluations = 0\n",
      "Number of Lagrangian Hessian evaluations             = 5\n",
      "Total seconds in IPOPT                               = 0.042\n",
      "\n",
      "EXIT: Optimal Solution Found.\n"
     ]
    }
   ],
   "source": [
    "twolink = InfiniteModel(Ipopt.Optimizer)\n",
    "@infinite_parameter(twolink, t in [0, 1], num_supports=12, derivative_method = OrthogonalCollocation(2))\n",
    "M₁ = 0.9; M₂ =1.1; L₁ = 0.25; L₂ = 0.35; S₁ = 0.11; S₂ = 0.15; I₁ = 0.065; I₂ = 0.1;\n",
    "b₁₁ = 0.71; b₂₂ = 0.81; b₁₂ = 0.08; b₂₁ = 0.08; t₁=0.04; t₂=0.03;\n",
    "\n",
    "@finite_parameter(twolink, B == 0)\n",
    "@variable(twolink, τ₁, Infinite(t))\n",
    "@variable(twolink, τ₂, Infinite(t))\n",
    "@variable(twolink, θ₁, Infinite(t),start=t->t)\n",
    "@variable(twolink, θ₂, Infinite(t),start=t->t)\n",
    "@variable(twolink, θ̇₁, Infinite(t),start=t->sin(pi*t))\n",
    "@variable(twolink, θ̇₂, Infinite(t),start=t->sin(pi*t))\n",
    "@variable(twolink, θ̈₁, Infinite(t),start=t->pi*cos(pi*t))\n",
    "@variable(twolink, θ̈₂, Infinite(t),start=t->pi*cos(pi*t))\n",
    "@variable(twolink, τ̇₁, Infinite(t))\n",
    "@variable(twolink, τ̇₂, Infinite(t))\n",
    "@variable(twolink, τ̈₁, Infinite(t))\n",
    "@variable(twolink, τ̈₂, Infinite(t))\n",
    "@variable(twolink, u₁, Infinite(t))\n",
    "@variable(twolink, u₂, Infinite(t))\n",
    "\n",
    "# Kawato's equations with typos\n",
    "#@constraint(twolink, τ₁==(I₁+I₂+2M₂*L₁*S₂*cos(θ₂)+M₂*L₁^2)θ̈₁ + (I₂+M₂*L₁*S₂*cos(θ₂)*θ̈₂) +\n",
    "#    -M₂*L₁*S₂*(2*θ̇₁+θ̇₂)*θ̇₂ + b₁₁*θ̇₁+b₁₂*θ̇₂)\n",
    "#@constraint(twolink, τ₂==(I₂+2M₂*L₁*S₂*cos(θ₂))*θ̈₁ + I₂*θ̈₂ +\n",
    "#    M₂*L₁*S₂*sin(θ₂)*θ̇₁^2 + b₂₁*θ̇₁+b₂₂*θ̇₂)\n",
    "    # Art's corrected version below\n",
    "@constraint(twolink, τ₁==(I₁+I₂+2M₂*L₁*S₂*cos(θ₂)+M₁*S₁^2+M₂*S₂^2+M₂*L₁^2)θ̈₁ + (I₂+M₂*S₂^2+M₂*L₁*S₂*cos(θ₂)*θ̈₂) +\n",
    "    -M₂*L₁*S₂*sin(θ₂)*(2*θ̇₁+θ̇₂)*θ̇₂ + b₁₁*θ̇₁+b₁₂*θ̇₂)\n",
    "@constraint(twolink, τ₂==(I₂+M₂*S₂^2+M₂*L₁*S₂*cos(θ₂))*θ̈₁ + I₂*θ̈₂ +\n",
    "    M₂*L₁*S₂*sin(θ₂)*θ̇₁^2 + b₂₁*θ̇₁+b₂₂*θ̇₂)\n",
    "\n",
    "\n",
    "# two time constants for the muscle model of Kawato\n",
    "@constraint(twolink, u₁==(t₁*t₂*τ̈₁+(t₁+t₂)*τ̇₁+τ₁))\n",
    "@constraint(twolink, u₂==(t₁*t₂*τ̈₂+(t₁+t₂)*τ̇₂+τ₂))\n",
    "\n",
    "#@objective(twolink, Min, integral(u₁.^2+u₂.^2,t))\n",
    "# Minimum jerk\n",
    "@objective(twolink, Min, integral(τ̇₁.^2+τ̇₂.^2,t))\n",
    "@constraint(twolink, deriv(τ₁,t) == τ̇₁)  \n",
    "@constraint(twolink, deriv(τ₂,t) == τ̇₂)  \n",
    "@constraint(twolink, deriv(τ̇₁,t) == τ̈₁)\n",
    "@constraint(twolink, deriv(τ̇₂,t) == τ̈₂)\n",
    "@constraint(twolink, deriv(θ₁,t) == θ̇₁)\n",
    "@constraint(twolink, deriv(θ₂,t) == θ̇₂)\n",
    "@constraint(twolink, deriv(θ̇₁,t) == θ̈₁)\n",
    "@constraint(twolink, deriv(θ̇₂,t) == θ̈₂)\n",
    "\n",
    "@constraint(twolink, θ₁(0) == 0)\n",
    "@constraint(twolink, θ₁(1) == 1)\n",
    "@constraint(twolink, θ₂(0) == 0)\n",
    "@constraint(twolink, θ₂(1) == 1)\n",
    "@constraint(twolink, θ̇₁(0) == 0)\n",
    "@constraint(twolink, θ̇₁(1) == 0)\n",
    "@constraint(twolink, θ̇₂(0) == 0)\n",
    "@constraint(twolink, θ̇₂(1) == 0)\n",
    "@constraint(twolink, θ̈₁(0) == 0)\n",
    "@constraint(twolink, θ̈₁(1) == 0)\n",
    "@constraint(twolink, θ̈₂(0) == 0)\n",
    "@constraint(twolink, θ̈₂(1) == 0)\n",
    "\n",
    "optimize!(twolink)\n",
    "\n",
    "#pfig = plot(layout=(1,2))\n",
    "#plot!(pfig[1],supports(t), value(v))\n",
    "#plot!(pfig[2], supports(t), value(F))\n",
    "\n",
    "#pfig = plotpvu()\n",
    "#for Bval in 0:0.2:2\n",
    "#    set_value( B, Bval)\n",
    "#    optimize!(twolink)\n",
    "#    plotpvu!(pfig, twolink, t, p, v, F)\n",
    "#end\n",
    "#display(pfig)"
   ]
  },
  {
   "cell_type": "code",
   "execution_count": 7,
   "metadata": {},
   "outputs": [
    {
     "data": {
      "image/svg+xml": "<?xml version=\"1.0\" encoding=\"utf-8\"?>\n<svg xmlns=\"http://www.w3.org/2000/svg\" xmlns:xlink=\"http://www.w3.org/1999/xlink\" width=\"600\" height=\"400\" viewBox=\"0 0 2400 1600\">\n<defs>\n  <clipPath id=\"clip070\">\n    <rect x=\"0\" y=\"0\" width=\"2400\" height=\"1600\"/>\n  </clipPath>\n</defs>\n<path clip-path=\"url(#clip070)\" d=\"\nM0 1600 L2400 1600 L2400 0 L0 0  Z\n  \" fill=\"#ffffff\" fill-rule=\"evenodd\" fill-opacity=\"1\"/>\n<defs>\n  <clipPath id=\"clip071\">\n    <rect x=\"480\" y=\"0\" width=\"1681\" height=\"1600\"/>\n  </clipPath>\n</defs>\n<path clip-path=\"url(#clip070)\" d=\"\nM156.112 1486.45 L2352.76 1486.45 L2352.76 47.2441 L156.112 47.2441  Z\n  \" fill=\"#ffffff\" fill-rule=\"evenodd\" fill-opacity=\"1\"/>\n<defs>\n  <clipPath id=\"clip072\">\n    <rect x=\"156\" y=\"47\" width=\"2198\" height=\"1440\"/>\n  </clipPath>\n</defs>\n<polyline clip-path=\"url(#clip072)\" style=\"stroke:#000000; stroke-linecap:butt; stroke-linejoin:round; stroke-width:2; stroke-opacity:0.1; fill:none\" points=\"\n  218.281,1486.45 218.281,47.2441 \n  \"/>\n<polyline clip-path=\"url(#clip072)\" style=\"stroke:#000000; stroke-linecap:butt; stroke-linejoin:round; stroke-width:2; stroke-opacity:0.1; fill:none\" points=\"\n  736.358,1486.45 736.358,47.2441 \n  \"/>\n<polyline clip-path=\"url(#clip072)\" style=\"stroke:#000000; stroke-linecap:butt; stroke-linejoin:round; stroke-width:2; stroke-opacity:0.1; fill:none\" points=\"\n  1254.43,1486.45 1254.43,47.2441 \n  \"/>\n<polyline clip-path=\"url(#clip072)\" style=\"stroke:#000000; stroke-linecap:butt; stroke-linejoin:round; stroke-width:2; stroke-opacity:0.1; fill:none\" points=\"\n  1772.51,1486.45 1772.51,47.2441 \n  \"/>\n<polyline clip-path=\"url(#clip072)\" style=\"stroke:#000000; stroke-linecap:butt; stroke-linejoin:round; stroke-width:2; stroke-opacity:0.1; fill:none\" points=\"\n  2290.59,1486.45 2290.59,47.2441 \n  \"/>\n<polyline clip-path=\"url(#clip070)\" style=\"stroke:#000000; stroke-linecap:butt; stroke-linejoin:round; stroke-width:4; stroke-opacity:1; fill:none\" points=\"\n  156.112,1486.45 2352.76,1486.45 \n  \"/>\n<polyline clip-path=\"url(#clip070)\" style=\"stroke:#000000; stroke-linecap:butt; stroke-linejoin:round; stroke-width:4; stroke-opacity:1; fill:none\" points=\"\n  218.281,1486.45 218.281,1467.55 \n  \"/>\n<polyline clip-path=\"url(#clip070)\" style=\"stroke:#000000; stroke-linecap:butt; stroke-linejoin:round; stroke-width:4; stroke-opacity:1; fill:none\" points=\"\n  736.358,1486.45 736.358,1467.55 \n  \"/>\n<polyline clip-path=\"url(#clip070)\" style=\"stroke:#000000; stroke-linecap:butt; stroke-linejoin:round; stroke-width:4; stroke-opacity:1; fill:none\" points=\"\n  1254.43,1486.45 1254.43,1467.55 \n  \"/>\n<polyline clip-path=\"url(#clip070)\" style=\"stroke:#000000; stroke-linecap:butt; stroke-linejoin:round; stroke-width:4; stroke-opacity:1; fill:none\" points=\"\n  1772.51,1486.45 1772.51,1467.55 \n  \"/>\n<polyline clip-path=\"url(#clip070)\" style=\"stroke:#000000; stroke-linecap:butt; stroke-linejoin:round; stroke-width:4; stroke-opacity:1; fill:none\" points=\"\n  2290.59,1486.45 2290.59,1467.55 \n  \"/>\n<path clip-path=\"url(#clip070)\" d=\"M180.585 1517.37 Q176.974 1517.37 175.145 1520.93 Q173.339 1524.47 173.339 1531.6 Q173.339 1538.71 175.145 1542.27 Q176.974 1545.82 180.585 1545.82 Q184.219 1545.82 186.025 1542.27 Q187.853 1538.71 187.853 1531.6 Q187.853 1524.47 186.025 1520.93 Q184.219 1517.37 180.585 1517.37 M180.585 1513.66 Q186.395 1513.66 189.45 1518.27 Q192.529 1522.85 192.529 1531.6 Q192.529 1540.33 189.45 1544.94 Q186.395 1549.52 180.585 1549.52 Q174.775 1549.52 171.696 1544.94 Q168.64 1540.33 168.64 1531.6 Q168.64 1522.85 171.696 1518.27 Q174.775 1513.66 180.585 1513.66 Z\" fill=\"#000000\" fill-rule=\"evenodd\" fill-opacity=\"1\" /><path clip-path=\"url(#clip070)\" d=\"M200.747 1542.97 L205.631 1542.97 L205.631 1548.85 L200.747 1548.85 L200.747 1542.97 Z\" fill=\"#000000\" fill-rule=\"evenodd\" fill-opacity=\"1\" /><path clip-path=\"url(#clip070)\" d=\"M225.816 1517.37 Q222.205 1517.37 220.376 1520.93 Q218.571 1524.47 218.571 1531.6 Q218.571 1538.71 220.376 1542.27 Q222.205 1545.82 225.816 1545.82 Q229.45 1545.82 231.256 1542.27 Q233.084 1538.71 233.084 1531.6 Q233.084 1524.47 231.256 1520.93 Q229.45 1517.37 225.816 1517.37 M225.816 1513.66 Q231.626 1513.66 234.682 1518.27 Q237.76 1522.85 237.76 1531.6 Q237.76 1540.33 234.682 1544.94 Q231.626 1549.52 225.816 1549.52 Q220.006 1549.52 216.927 1544.94 Q213.872 1540.33 213.872 1531.6 Q213.872 1522.85 216.927 1518.27 Q220.006 1513.66 225.816 1513.66 Z\" fill=\"#000000\" fill-rule=\"evenodd\" fill-opacity=\"1\" /><path clip-path=\"url(#clip070)\" d=\"M255.978 1517.37 Q252.367 1517.37 250.538 1520.93 Q248.733 1524.47 248.733 1531.6 Q248.733 1538.71 250.538 1542.27 Q252.367 1545.82 255.978 1545.82 Q259.612 1545.82 261.418 1542.27 Q263.246 1538.71 263.246 1531.6 Q263.246 1524.47 261.418 1520.93 Q259.612 1517.37 255.978 1517.37 M255.978 1513.66 Q261.788 1513.66 264.844 1518.27 Q267.922 1522.85 267.922 1531.6 Q267.922 1540.33 264.844 1544.94 Q261.788 1549.52 255.978 1549.52 Q250.168 1549.52 247.089 1544.94 Q244.033 1540.33 244.033 1531.6 Q244.033 1522.85 247.089 1518.27 Q250.168 1513.66 255.978 1513.66 Z\" fill=\"#000000\" fill-rule=\"evenodd\" fill-opacity=\"1\" /><path clip-path=\"url(#clip070)\" d=\"M699.159 1517.37 Q695.548 1517.37 693.719 1520.93 Q691.913 1524.47 691.913 1531.6 Q691.913 1538.71 693.719 1542.27 Q695.548 1545.82 699.159 1545.82 Q702.793 1545.82 704.599 1542.27 Q706.427 1538.71 706.427 1531.6 Q706.427 1524.47 704.599 1520.93 Q702.793 1517.37 699.159 1517.37 M699.159 1513.66 Q704.969 1513.66 708.024 1518.27 Q711.103 1522.85 711.103 1531.6 Q711.103 1540.33 708.024 1544.94 Q704.969 1549.52 699.159 1549.52 Q693.349 1549.52 690.27 1544.94 Q687.214 1540.33 687.214 1531.6 Q687.214 1522.85 690.27 1518.27 Q693.349 1513.66 699.159 1513.66 Z\" fill=\"#000000\" fill-rule=\"evenodd\" fill-opacity=\"1\" /><path clip-path=\"url(#clip070)\" d=\"M719.321 1542.97 L724.205 1542.97 L724.205 1548.85 L719.321 1548.85 L719.321 1542.97 Z\" fill=\"#000000\" fill-rule=\"evenodd\" fill-opacity=\"1\" /><path clip-path=\"url(#clip070)\" d=\"M738.418 1544.91 L754.737 1544.91 L754.737 1548.85 L732.793 1548.85 L732.793 1544.91 Q735.455 1542.16 740.038 1537.53 Q744.645 1532.88 745.825 1531.53 Q748.071 1529.01 748.95 1527.27 Q749.853 1525.51 749.853 1523.82 Q749.853 1521.07 747.909 1519.33 Q745.987 1517.6 742.885 1517.6 Q740.686 1517.6 738.233 1518.36 Q735.802 1519.13 733.024 1520.68 L733.024 1515.95 Q735.848 1514.82 738.302 1514.24 Q740.756 1513.66 742.793 1513.66 Q748.163 1513.66 751.358 1516.35 Q754.552 1519.03 754.552 1523.52 Q754.552 1525.65 753.742 1527.57 Q752.955 1529.47 750.848 1532.07 Q750.27 1532.74 747.168 1535.95 Q744.066 1539.15 738.418 1544.91 Z\" fill=\"#000000\" fill-rule=\"evenodd\" fill-opacity=\"1\" /><path clip-path=\"url(#clip070)\" d=\"M764.598 1514.29 L782.955 1514.29 L782.955 1518.22 L768.881 1518.22 L768.881 1526.7 Q769.899 1526.35 770.918 1526.19 Q771.936 1526 772.955 1526 Q778.742 1526 782.121 1529.17 Q785.501 1532.34 785.501 1537.76 Q785.501 1543.34 782.029 1546.44 Q778.557 1549.52 772.237 1549.52 Q770.061 1549.52 767.793 1549.15 Q765.547 1548.78 763.14 1548.04 L763.14 1543.34 Q765.223 1544.47 767.445 1545.03 Q769.668 1545.58 772.144 1545.58 Q776.149 1545.58 778.487 1543.48 Q780.825 1541.37 780.825 1537.76 Q780.825 1534.15 778.487 1532.04 Q776.149 1529.94 772.144 1529.94 Q770.27 1529.94 768.395 1530.35 Q766.543 1530.77 764.598 1531.65 L764.598 1514.29 Z\" fill=\"#000000\" fill-rule=\"evenodd\" fill-opacity=\"1\" /><path clip-path=\"url(#clip070)\" d=\"M1216.74 1517.37 Q1213.13 1517.37 1211.3 1520.93 Q1209.49 1524.47 1209.49 1531.6 Q1209.49 1538.71 1211.3 1542.27 Q1213.13 1545.82 1216.74 1545.82 Q1220.37 1545.82 1222.18 1542.27 Q1224.01 1538.71 1224.01 1531.6 Q1224.01 1524.47 1222.18 1520.93 Q1220.37 1517.37 1216.74 1517.37 M1216.74 1513.66 Q1222.55 1513.66 1225.6 1518.27 Q1228.68 1522.85 1228.68 1531.6 Q1228.68 1540.33 1225.6 1544.94 Q1222.55 1549.52 1216.74 1549.52 Q1210.93 1549.52 1207.85 1544.94 Q1204.79 1540.33 1204.79 1531.6 Q1204.79 1522.85 1207.85 1518.27 Q1210.93 1513.66 1216.74 1513.66 Z\" fill=\"#000000\" fill-rule=\"evenodd\" fill-opacity=\"1\" /><path clip-path=\"url(#clip070)\" d=\"M1236.9 1542.97 L1241.78 1542.97 L1241.78 1548.85 L1236.9 1548.85 L1236.9 1542.97 Z\" fill=\"#000000\" fill-rule=\"evenodd\" fill-opacity=\"1\" /><path clip-path=\"url(#clip070)\" d=\"M1252.02 1514.29 L1270.37 1514.29 L1270.37 1518.22 L1256.3 1518.22 L1256.3 1526.7 Q1257.32 1526.35 1258.33 1526.19 Q1259.35 1526 1260.37 1526 Q1266.16 1526 1269.54 1529.17 Q1272.92 1532.34 1272.92 1537.76 Q1272.92 1543.34 1269.45 1546.44 Q1265.97 1549.52 1259.65 1549.52 Q1257.48 1549.52 1255.21 1549.15 Q1252.96 1548.78 1250.56 1548.04 L1250.56 1543.34 Q1252.64 1544.47 1254.86 1545.03 Q1257.08 1545.58 1259.56 1545.58 Q1263.57 1545.58 1265.9 1543.48 Q1268.24 1541.37 1268.24 1537.76 Q1268.24 1534.15 1265.9 1532.04 Q1263.57 1529.94 1259.56 1529.94 Q1257.69 1529.94 1255.81 1530.35 Q1253.96 1530.77 1252.02 1531.65 L1252.02 1514.29 Z\" fill=\"#000000\" fill-rule=\"evenodd\" fill-opacity=\"1\" /><path clip-path=\"url(#clip070)\" d=\"M1292.13 1517.37 Q1288.52 1517.37 1286.69 1520.93 Q1284.89 1524.47 1284.89 1531.6 Q1284.89 1538.71 1286.69 1542.27 Q1288.52 1545.82 1292.13 1545.82 Q1295.76 1545.82 1297.57 1542.27 Q1299.4 1538.71 1299.4 1531.6 Q1299.4 1524.47 1297.57 1520.93 Q1295.76 1517.37 1292.13 1517.37 M1292.13 1513.66 Q1297.94 1513.66 1301 1518.27 Q1304.07 1522.85 1304.07 1531.6 Q1304.07 1540.33 1301 1544.94 Q1297.94 1549.52 1292.13 1549.52 Q1286.32 1549.52 1283.24 1544.94 Q1280.19 1540.33 1280.19 1531.6 Q1280.19 1522.85 1283.24 1518.27 Q1286.32 1513.66 1292.13 1513.66 Z\" fill=\"#000000\" fill-rule=\"evenodd\" fill-opacity=\"1\" /><path clip-path=\"url(#clip070)\" d=\"M1735.31 1517.37 Q1731.7 1517.37 1729.87 1520.93 Q1728.07 1524.47 1728.07 1531.6 Q1728.07 1538.71 1729.87 1542.27 Q1731.7 1545.82 1735.31 1545.82 Q1738.95 1545.82 1740.75 1542.27 Q1742.58 1538.71 1742.58 1531.6 Q1742.58 1524.47 1740.75 1520.93 Q1738.95 1517.37 1735.31 1517.37 M1735.31 1513.66 Q1741.12 1513.66 1744.18 1518.27 Q1747.26 1522.85 1747.26 1531.6 Q1747.26 1540.33 1744.18 1544.94 Q1741.12 1549.52 1735.31 1549.52 Q1729.5 1549.52 1726.42 1544.94 Q1723.37 1540.33 1723.37 1531.6 Q1723.37 1522.85 1726.42 1518.27 Q1729.5 1513.66 1735.31 1513.66 Z\" fill=\"#000000\" fill-rule=\"evenodd\" fill-opacity=\"1\" /><path clip-path=\"url(#clip070)\" d=\"M1755.47 1542.97 L1760.36 1542.97 L1760.36 1548.85 L1755.47 1548.85 L1755.47 1542.97 Z\" fill=\"#000000\" fill-rule=\"evenodd\" fill-opacity=\"1\" /><path clip-path=\"url(#clip070)\" d=\"M1769.36 1514.29 L1791.58 1514.29 L1791.58 1516.28 L1779.04 1548.85 L1774.15 1548.85 L1785.96 1518.22 L1769.36 1518.22 L1769.36 1514.29 Z\" fill=\"#000000\" fill-rule=\"evenodd\" fill-opacity=\"1\" /><path clip-path=\"url(#clip070)\" d=\"M1800.75 1514.29 L1819.11 1514.29 L1819.11 1518.22 L1805.03 1518.22 L1805.03 1526.7 Q1806.05 1526.35 1807.07 1526.19 Q1808.09 1526 1809.11 1526 Q1814.89 1526 1818.27 1529.17 Q1821.65 1532.34 1821.65 1537.76 Q1821.65 1543.34 1818.18 1546.44 Q1814.71 1549.52 1808.39 1549.52 Q1806.21 1549.52 1803.95 1549.15 Q1801.7 1548.78 1799.29 1548.04 L1799.29 1543.34 Q1801.38 1544.47 1803.6 1545.03 Q1805.82 1545.58 1808.3 1545.58 Q1812.3 1545.58 1814.64 1543.48 Q1816.98 1541.37 1816.98 1537.76 Q1816.98 1534.15 1814.64 1532.04 Q1812.3 1529.94 1808.3 1529.94 Q1806.42 1529.94 1804.55 1530.35 Q1802.7 1530.77 1800.75 1531.65 L1800.75 1514.29 Z\" fill=\"#000000\" fill-rule=\"evenodd\" fill-opacity=\"1\" /><path clip-path=\"url(#clip070)\" d=\"M2242.66 1544.91 L2250.3 1544.91 L2250.3 1518.55 L2241.99 1520.21 L2241.99 1515.95 L2250.25 1514.29 L2254.93 1514.29 L2254.93 1544.91 L2262.57 1544.91 L2262.57 1548.85 L2242.66 1548.85 L2242.66 1544.91 Z\" fill=\"#000000\" fill-rule=\"evenodd\" fill-opacity=\"1\" /><path clip-path=\"url(#clip070)\" d=\"M2272.01 1542.97 L2276.89 1542.97 L2276.89 1548.85 L2272.01 1548.85 L2272.01 1542.97 Z\" fill=\"#000000\" fill-rule=\"evenodd\" fill-opacity=\"1\" /><path clip-path=\"url(#clip070)\" d=\"M2297.08 1517.37 Q2293.47 1517.37 2291.64 1520.93 Q2289.83 1524.47 2289.83 1531.6 Q2289.83 1538.71 2291.64 1542.27 Q2293.47 1545.82 2297.08 1545.82 Q2300.71 1545.82 2302.52 1542.27 Q2304.35 1538.71 2304.35 1531.6 Q2304.35 1524.47 2302.52 1520.93 Q2300.71 1517.37 2297.08 1517.37 M2297.08 1513.66 Q2302.89 1513.66 2305.95 1518.27 Q2309.02 1522.85 2309.02 1531.6 Q2309.02 1540.33 2305.95 1544.94 Q2302.89 1549.52 2297.08 1549.52 Q2291.27 1549.52 2288.19 1544.94 Q2285.14 1540.33 2285.14 1531.6 Q2285.14 1522.85 2288.19 1518.27 Q2291.27 1513.66 2297.08 1513.66 Z\" fill=\"#000000\" fill-rule=\"evenodd\" fill-opacity=\"1\" /><path clip-path=\"url(#clip070)\" d=\"M2327.24 1517.37 Q2323.63 1517.37 2321.8 1520.93 Q2320 1524.47 2320 1531.6 Q2320 1538.71 2321.8 1542.27 Q2323.63 1545.82 2327.24 1545.82 Q2330.88 1545.82 2332.68 1542.27 Q2334.51 1538.71 2334.51 1531.6 Q2334.51 1524.47 2332.68 1520.93 Q2330.88 1517.37 2327.24 1517.37 M2327.24 1513.66 Q2333.05 1513.66 2336.11 1518.27 Q2339.19 1522.85 2339.19 1531.6 Q2339.19 1540.33 2336.11 1544.94 Q2333.05 1549.52 2327.24 1549.52 Q2321.43 1549.52 2318.35 1544.94 Q2315.3 1540.33 2315.3 1531.6 Q2315.3 1522.85 2318.35 1518.27 Q2321.43 1513.66 2327.24 1513.66 Z\" fill=\"#000000\" fill-rule=\"evenodd\" fill-opacity=\"1\" /><polyline clip-path=\"url(#clip072)\" style=\"stroke:#000000; stroke-linecap:butt; stroke-linejoin:round; stroke-width:2; stroke-opacity:0.1; fill:none\" points=\"\n  156.112,1445.72 2352.76,1445.72 \n  \"/>\n<polyline clip-path=\"url(#clip072)\" style=\"stroke:#000000; stroke-linecap:butt; stroke-linejoin:round; stroke-width:2; stroke-opacity:0.1; fill:none\" points=\"\n  156.112,1085.28 2352.76,1085.28 \n  \"/>\n<polyline clip-path=\"url(#clip072)\" style=\"stroke:#000000; stroke-linecap:butt; stroke-linejoin:round; stroke-width:2; stroke-opacity:0.1; fill:none\" points=\"\n  156.112,724.843 2352.76,724.843 \n  \"/>\n<polyline clip-path=\"url(#clip072)\" style=\"stroke:#000000; stroke-linecap:butt; stroke-linejoin:round; stroke-width:2; stroke-opacity:0.1; fill:none\" points=\"\n  156.112,364.407 2352.76,364.407 \n  \"/>\n<polyline clip-path=\"url(#clip070)\" style=\"stroke:#000000; stroke-linecap:butt; stroke-linejoin:round; stroke-width:4; stroke-opacity:1; fill:none\" points=\"\n  156.112,1486.45 156.112,47.2441 \n  \"/>\n<polyline clip-path=\"url(#clip070)\" style=\"stroke:#000000; stroke-linecap:butt; stroke-linejoin:round; stroke-width:4; stroke-opacity:1; fill:none\" points=\"\n  156.112,1445.72 175.01,1445.72 \n  \"/>\n<polyline clip-path=\"url(#clip070)\" style=\"stroke:#000000; stroke-linecap:butt; stroke-linejoin:round; stroke-width:4; stroke-opacity:1; fill:none\" points=\"\n  156.112,1085.28 175.01,1085.28 \n  \"/>\n<polyline clip-path=\"url(#clip070)\" style=\"stroke:#000000; stroke-linecap:butt; stroke-linejoin:round; stroke-width:4; stroke-opacity:1; fill:none\" points=\"\n  156.112,724.843 175.01,724.843 \n  \"/>\n<polyline clip-path=\"url(#clip070)\" style=\"stroke:#000000; stroke-linecap:butt; stroke-linejoin:round; stroke-width:4; stroke-opacity:1; fill:none\" points=\"\n  156.112,364.407 175.01,364.407 \n  \"/>\n<path clip-path=\"url(#clip070)\" d=\"M62.9365 1431.51 Q59.3254 1431.51 57.4967 1435.08 Q55.6912 1438.62 55.6912 1445.75 Q55.6912 1452.86 57.4967 1456.42 Q59.3254 1459.96 62.9365 1459.96 Q66.5707 1459.96 68.3763 1456.42 Q70.205 1452.86 70.205 1445.75 Q70.205 1438.62 68.3763 1435.08 Q66.5707 1431.51 62.9365 1431.51 M62.9365 1427.81 Q68.7467 1427.81 71.8022 1432.42 Q74.8809 1437 74.8809 1445.75 Q74.8809 1454.48 71.8022 1459.08 Q68.7467 1463.67 62.9365 1463.67 Q57.1264 1463.67 54.0477 1459.08 Q50.9921 1454.48 50.9921 1445.75 Q50.9921 1437 54.0477 1432.42 Q57.1264 1427.81 62.9365 1427.81 Z\" fill=\"#000000\" fill-rule=\"evenodd\" fill-opacity=\"1\" /><path clip-path=\"url(#clip070)\" d=\"M83.0984 1457.12 L87.9827 1457.12 L87.9827 1463 L83.0984 1463 L83.0984 1457.12 Z\" fill=\"#000000\" fill-rule=\"evenodd\" fill-opacity=\"1\" /><path clip-path=\"url(#clip070)\" d=\"M108.168 1431.51 Q104.557 1431.51 102.728 1435.08 Q100.922 1438.62 100.922 1445.75 Q100.922 1452.86 102.728 1456.42 Q104.557 1459.96 108.168 1459.96 Q111.802 1459.96 113.608 1456.42 Q115.436 1452.86 115.436 1445.75 Q115.436 1438.62 113.608 1435.08 Q111.802 1431.51 108.168 1431.51 M108.168 1427.81 Q113.978 1427.81 117.033 1432.42 Q120.112 1437 120.112 1445.75 Q120.112 1454.48 117.033 1459.08 Q113.978 1463.67 108.168 1463.67 Q102.358 1463.67 99.2789 1459.08 Q96.2234 1454.48 96.2234 1445.75 Q96.2234 1437 99.2789 1432.42 Q102.358 1427.81 108.168 1427.81 Z\" fill=\"#000000\" fill-rule=\"evenodd\" fill-opacity=\"1\" /><path clip-path=\"url(#clip070)\" d=\"M63.9319 1071.08 Q60.3208 1071.08 58.4921 1074.64 Q56.6865 1078.18 56.6865 1085.31 Q56.6865 1092.42 58.4921 1095.99 Q60.3208 1099.53 63.9319 1099.53 Q67.5661 1099.53 69.3717 1095.99 Q71.2004 1092.42 71.2004 1085.31 Q71.2004 1078.18 69.3717 1074.64 Q67.5661 1071.08 63.9319 1071.08 M63.9319 1067.37 Q69.742 1067.37 72.7976 1071.98 Q75.8763 1076.56 75.8763 1085.31 Q75.8763 1094.04 72.7976 1098.65 Q69.742 1103.23 63.9319 1103.23 Q58.1217 1103.23 55.043 1098.65 Q51.9875 1094.04 51.9875 1085.31 Q51.9875 1076.56 55.043 1071.98 Q58.1217 1067.37 63.9319 1067.37 Z\" fill=\"#000000\" fill-rule=\"evenodd\" fill-opacity=\"1\" /><path clip-path=\"url(#clip070)\" d=\"M84.0938 1096.68 L88.978 1096.68 L88.978 1102.56 L84.0938 1102.56 L84.0938 1096.68 Z\" fill=\"#000000\" fill-rule=\"evenodd\" fill-opacity=\"1\" /><path clip-path=\"url(#clip070)\" d=\"M99.2095 1068 L117.566 1068 L117.566 1071.93 L103.492 1071.93 L103.492 1080.41 Q104.51 1080.06 105.529 1079.9 Q106.547 1079.71 107.566 1079.71 Q113.353 1079.71 116.733 1082.88 Q120.112 1086.06 120.112 1091.47 Q120.112 1097.05 116.64 1100.15 Q113.168 1103.23 106.848 1103.23 Q104.672 1103.23 102.404 1102.86 Q100.159 1102.49 97.7511 1101.75 L97.7511 1097.05 Q99.8345 1098.18 102.057 1098.74 Q104.279 1099.3 106.756 1099.3 Q110.76 1099.3 113.098 1097.19 Q115.436 1095.08 115.436 1091.47 Q115.436 1087.86 113.098 1085.75 Q110.76 1083.65 106.756 1083.65 Q104.881 1083.65 103.006 1084.06 Q101.154 1084.48 99.2095 1085.36 L99.2095 1068 Z\" fill=\"#000000\" fill-rule=\"evenodd\" fill-opacity=\"1\" /><path clip-path=\"url(#clip070)\" d=\"M53.7467 738.188 L61.3856 738.188 L61.3856 711.823 L53.0754 713.489 L53.0754 709.23 L61.3393 707.563 L66.0152 707.563 L66.0152 738.188 L73.654 738.188 L73.654 742.123 L53.7467 742.123 L53.7467 738.188 Z\" fill=\"#000000\" fill-rule=\"evenodd\" fill-opacity=\"1\" /><path clip-path=\"url(#clip070)\" d=\"M83.0984 736.244 L87.9827 736.244 L87.9827 742.123 L83.0984 742.123 L83.0984 736.244 Z\" fill=\"#000000\" fill-rule=\"evenodd\" fill-opacity=\"1\" /><path clip-path=\"url(#clip070)\" d=\"M108.168 710.642 Q104.557 710.642 102.728 714.207 Q100.922 717.749 100.922 724.878 Q100.922 731.985 102.728 735.549 Q104.557 739.091 108.168 739.091 Q111.802 739.091 113.608 735.549 Q115.436 731.985 115.436 724.878 Q115.436 717.749 113.608 714.207 Q111.802 710.642 108.168 710.642 M108.168 706.938 Q113.978 706.938 117.033 711.545 Q120.112 716.128 120.112 724.878 Q120.112 733.605 117.033 738.211 Q113.978 742.795 108.168 742.795 Q102.358 742.795 99.2789 738.211 Q96.2234 733.605 96.2234 724.878 Q96.2234 716.128 99.2789 711.545 Q102.358 706.938 108.168 706.938 Z\" fill=\"#000000\" fill-rule=\"evenodd\" fill-opacity=\"1\" /><path clip-path=\"url(#clip070)\" d=\"M54.7421 377.752 L62.381 377.752 L62.381 351.386 L54.0708 353.053 L54.0708 348.794 L62.3347 347.127 L67.0106 347.127 L67.0106 377.752 L74.6494 377.752 L74.6494 381.687 L54.7421 381.687 L54.7421 377.752 Z\" fill=\"#000000\" fill-rule=\"evenodd\" fill-opacity=\"1\" /><path clip-path=\"url(#clip070)\" d=\"M84.0938 375.808 L88.978 375.808 L88.978 381.687 L84.0938 381.687 L84.0938 375.808 Z\" fill=\"#000000\" fill-rule=\"evenodd\" fill-opacity=\"1\" /><path clip-path=\"url(#clip070)\" d=\"M99.2095 347.127 L117.566 347.127 L117.566 351.062 L103.492 351.062 L103.492 359.535 Q104.51 359.187 105.529 359.025 Q106.547 358.84 107.566 358.84 Q113.353 358.84 116.733 362.011 Q120.112 365.183 120.112 370.599 Q120.112 376.178 116.64 379.28 Q113.168 382.359 106.848 382.359 Q104.672 382.359 102.404 381.988 Q100.159 381.618 97.7511 380.877 L97.7511 376.178 Q99.8345 377.312 102.057 377.868 Q104.279 378.423 106.756 378.423 Q110.76 378.423 113.098 376.317 Q115.436 374.21 115.436 370.599 Q115.436 366.988 113.098 364.882 Q110.76 362.775 106.756 362.775 Q104.881 362.775 103.006 363.192 Q101.154 363.609 99.2095 364.488 L99.2095 347.127 Z\" fill=\"#000000\" fill-rule=\"evenodd\" fill-opacity=\"1\" /><polyline clip-path=\"url(#clip072)\" style=\"stroke:#009af9; stroke-linecap:butt; stroke-linejoin:round; stroke-width:4; stroke-opacity:1; fill:none\" points=\"\n  218.281,1445.72 406.673,1176.6 595.064,808.753 783.456,460.194 971.847,204.794 1160.24,87.9763 1348.63,138.137 1537.02,360.908 1725.41,720.096 1913.8,1124.38 \n  2102.2,1445.72 2290.59,1445.72 \n  \"/>\n<polyline clip-path=\"url(#clip072)\" style=\"stroke:#e26f46; stroke-linecap:butt; stroke-linejoin:round; stroke-width:4; stroke-opacity:1; fill:none\" points=\"\n  218.281,1445.72 406.673,1251.36 595.064,935.718 783.456,586.974 971.847,293.524 1160.24,121.818 1348.63,104.101 1537.02,248.034 1725.41,551.412 1913.8,988.908 \n  2102.2,1445.72 2290.59,1445.72 \n  \"/>\n<path clip-path=\"url(#clip070)\" d=\"\nM1983.03 250.738 L2279.53 250.738 L2279.53 95.2176 L1983.03 95.2176  Z\n  \" fill=\"#ffffff\" fill-rule=\"evenodd\" fill-opacity=\"1\"/>\n<polyline clip-path=\"url(#clip070)\" style=\"stroke:#000000; stroke-linecap:butt; stroke-linejoin:round; stroke-width:4; stroke-opacity:1; fill:none\" points=\"\n  1983.03,250.738 2279.53,250.738 2279.53,95.2176 1983.03,95.2176 1983.03,250.738 \n  \"/>\n<polyline clip-path=\"url(#clip070)\" style=\"stroke:#009af9; stroke-linecap:butt; stroke-linejoin:round; stroke-width:4; stroke-opacity:1; fill:none\" points=\"\n  2007.44,147.058 2153.88,147.058 \n  \"/>\n<path clip-path=\"url(#clip070)\" d=\"M2192.13 166.745 Q2190.33 171.375 2188.61 172.787 Q2186.9 174.199 2184.03 174.199 L2180.63 174.199 L2180.63 170.634 L2183.13 170.634 Q2184.89 170.634 2185.86 169.8 Q2186.83 168.967 2188.01 165.865 L2188.78 163.921 L2178.29 138.412 L2182.8 138.412 L2190.91 158.689 L2199.01 138.412 L2203.52 138.412 L2192.13 166.745 Z\" fill=\"#000000\" fill-rule=\"evenodd\" fill-opacity=\"1\" /><path clip-path=\"url(#clip070)\" d=\"M2210.81 160.402 L2218.45 160.402 L2218.45 134.037 L2210.14 135.703 L2210.14 131.444 L2218.41 129.778 L2223.08 129.778 L2223.08 160.402 L2230.72 160.402 L2230.72 164.338 L2210.81 164.338 L2210.81 160.402 Z\" fill=\"#000000\" fill-rule=\"evenodd\" fill-opacity=\"1\" /><polyline clip-path=\"url(#clip070)\" style=\"stroke:#e26f46; stroke-linecap:butt; stroke-linejoin:round; stroke-width:4; stroke-opacity:1; fill:none\" points=\"\n  2007.44,198.898 2153.88,198.898 \n  \"/>\n<path clip-path=\"url(#clip070)\" d=\"M2192.13 218.585 Q2190.33 223.215 2188.61 224.627 Q2186.9 226.039 2184.03 226.039 L2180.63 226.039 L2180.63 222.474 L2183.13 222.474 Q2184.89 222.474 2185.86 221.64 Q2186.83 220.807 2188.01 217.705 L2188.78 215.761 L2178.29 190.252 L2182.8 190.252 L2190.91 210.529 L2199.01 190.252 L2203.52 190.252 L2192.13 218.585 Z\" fill=\"#000000\" fill-rule=\"evenodd\" fill-opacity=\"1\" /><path clip-path=\"url(#clip070)\" d=\"M2214.03 212.242 L2230.35 212.242 L2230.35 216.178 L2208.41 216.178 L2208.41 212.242 Q2211.07 209.488 2215.65 204.858 Q2220.26 200.205 2221.44 198.863 Q2223.68 196.34 2224.56 194.604 Q2225.47 192.844 2225.47 191.155 Q2225.47 188.4 2223.52 186.664 Q2221.6 184.928 2218.5 184.928 Q2216.3 184.928 2213.85 185.692 Q2211.41 186.455 2208.64 188.006 L2208.64 183.284 Q2211.46 182.15 2213.91 181.571 Q2216.37 180.993 2218.41 180.993 Q2223.78 180.993 2226.97 183.678 Q2230.16 186.363 2230.16 190.854 Q2230.16 192.983 2229.35 194.905 Q2228.57 196.803 2226.46 199.395 Q2225.88 200.067 2222.78 203.284 Q2219.68 206.479 2214.03 212.242 Z\" fill=\"#000000\" fill-rule=\"evenodd\" fill-opacity=\"1\" /></svg>\n"
     },
     "execution_count": 7,
     "metadata": {},
     "output_type": "execute_result"
    }
   ],
   "source": [
    "plot(supports(t),value(θ̇₁))\n",
    "plot!(supports(t),value(θ̇₂))"
   ]
  },
  {
   "cell_type": "code",
   "execution_count": null,
   "metadata": {},
   "outputs": [],
   "source": []
  }
 ],
 "metadata": {
  "kernelspec": {
   "display_name": "Julia 1.7.2",
   "language": "julia",
   "name": "julia-1.7"
  },
  "language_info": {
   "file_extension": ".jl",
   "mimetype": "application/julia",
   "name": "julia",
   "version": "1.7.2"
  },
  "orig_nbformat": 4
 },
 "nbformat": 4,
 "nbformat_minor": 2
}
